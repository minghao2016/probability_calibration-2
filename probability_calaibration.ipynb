{
 "cells": [
  {
   "cell_type": "markdown",
   "metadata": {},
   "source": [
    "# Probability Calibration"
   ]
  },
  {
   "cell_type": "markdown",
   "metadata": {},
   "source": [
    "In supervised learning, sometimes we might be interested in the output probability and not the predicted class. For example, let's say we build a model to predict the likelihood of an estate agency selling a property at `£500,000`. To calculate the expected revenue, we will require the formula\n",
    "\n",
    "$ 𝚺 xᵢ * P(X = xᵢ) $\n",
    "\n",
    "where \n",
    "xᵢ: price of property\n",
    "P(X = xᵢ): likelihood of selling the property at price xᵢ\n",
    "\n",
    "In such a case, it is really important to work with \"well calibrated probabilities\". How do you define a well calibrated probability?\n",
    "\n",
    "*In very simple terms, these are probabilities which can be interpreted as a confidence interval. Furthermore, a classifier is said to produce well calibrated probabilities if for the instances (data points) receiving probability 0.5, 50% of those instances belongs to the positive class.*\n",
    "\n",
    "In this tutorial I will talk about how to obtain calibrated probabilities using the credit card defaults dataset, which can be found __[here](https://archive.ics.uci.edu/ml/datasets/default+of+credit+card+clients)__ but first some background on probability calibration."
   ]
  },
  {
   "cell_type": "markdown",
   "metadata": {},
   "source": [
    "Probability calibration is essential if the required output is the true probability and not the ranking or predicted class as calibration does not change probability ranks or class with the maximum probability. Not all classifiers produce well calibrated probabilities and for some classifiers the predicted probability does not match the output of its decision function (for example SVC). \n",
    "Logistics regression is popularly known to produce well calibrated probabilities if and only if the parametric assumptions of the model holds. Naive Bayes is notorious for producing probabilities close to its extremes i.e. 0 and 1 while boosting and bagging techniques are known for producing probabilities away from 0 and 1 hence requires calibration. To better understand how well various classifiers are calibrated, I'd strongly recommend this __[page](https://scikit-learn.org/stable/modules/calibration.html)__.\n",
    "\n",
    "There are 2 popular methods for calibrating probabilities:\n",
    "\n",
    "**Platt scaling**: aka logistic calibration is a parametric approach with a sigmoidal calibration map which assumes each class probabilities are normally distributed. In simple terms, this method fits a logistic regression to output probabilities to produce better calibrated probabilities.\n",
    "\n",
    "*Pro-*\n",
    "Works well with small dataset\n",
    "\n",
    "*Con-*\n",
    "Could produce worse probabilities calibration wise if the assumptions do not hold\n",
    "\n",
    "**Isotonic regression**: this is a non parametric approach which tends to perform well with as it fits a piece wise non-decreasing function to the predicted probabilities outputted by the base model.\n",
    "\n",
    "*Pro-*\n",
    "Makes no assumption about the input probabilities\n",
    "\n",
    "*Con-*\n",
    "Requires more datapoints to work well"
   ]
  },
  {
   "cell_type": "markdown",
   "metadata": {},
   "source": [
    "\n",
    "\n",
    "Now let's get into the dataset. We will:\n",
    " -  Load the dataset\n",
    " - Apply some basic preprocessing\n",
    " - Build a random forest model which predicts the likelihood of an individual defaulting on their credit card payment\n",
    " - Calibrate the probabilities\n",
    " \n",
    " First let's import relevant packages."
   ]
  },
  {
   "cell_type": "code",
   "execution_count": 1,
   "metadata": {},
   "outputs": [],
   "source": [
    "import numpy as np\n",
    "import pandas as pd\n",
    "\n",
    "from sklearn.calibration import calibration_curve, CalibratedClassifierCV\n",
    "from sklearn.dummy import DummyClassifier\n",
    "from sklearn.ensemble import RandomForestClassifier\n",
    "from sklearn.model_selection import train_test_split\n",
    "from sklearn.metrics import log_loss, classification_report,roc_auc_score\n",
    "from sklearn.preprocessing import OneHotEncoder\n",
    "\n",
    "import matplotlib.pyplot as plt\n",
    "import seaborn as sns\n",
    "\n",
    "import warnings\n",
    "warnings.filterwarnings(\"ignore\")"
   ]
  },
  {
   "cell_type": "markdown",
   "metadata": {},
   "source": [
    "The cell below is a way of restricting how many columns are displayed when inspecting a dataframe. "
   ]
  },
  {
   "cell_type": "code",
   "execution_count": 2,
   "metadata": {},
   "outputs": [],
   "source": [
    "pd.options.display.max_columns = None"
   ]
  },
  {
   "cell_type": "markdown",
   "metadata": {},
   "source": [
    "### 1. Load dataset and inspect first 5 rows"
   ]
  },
  {
   "cell_type": "code",
   "execution_count": 3,
   "metadata": {},
   "outputs": [
    {
     "data": {
      "text/html": [
       "<div>\n",
       "<style scoped>\n",
       "    .dataframe tbody tr th:only-of-type {\n",
       "        vertical-align: middle;\n",
       "    }\n",
       "\n",
       "    .dataframe tbody tr th {\n",
       "        vertical-align: top;\n",
       "    }\n",
       "\n",
       "    .dataframe thead th {\n",
       "        text-align: right;\n",
       "    }\n",
       "</style>\n",
       "<table border=\"1\" class=\"dataframe\">\n",
       "  <thead>\n",
       "    <tr style=\"text-align: right;\">\n",
       "      <th></th>\n",
       "      <th>ID</th>\n",
       "      <th>LIMIT_BAL</th>\n",
       "      <th>SEX</th>\n",
       "      <th>EDUCATION</th>\n",
       "      <th>MARRIAGE</th>\n",
       "      <th>AGE</th>\n",
       "      <th>PAY_0</th>\n",
       "      <th>PAY_2</th>\n",
       "      <th>PAY_3</th>\n",
       "      <th>PAY_4</th>\n",
       "      <th>PAY_5</th>\n",
       "      <th>PAY_6</th>\n",
       "      <th>BILL_AMT1</th>\n",
       "      <th>BILL_AMT2</th>\n",
       "      <th>BILL_AMT3</th>\n",
       "      <th>BILL_AMT4</th>\n",
       "      <th>BILL_AMT5</th>\n",
       "      <th>BILL_AMT6</th>\n",
       "      <th>PAY_AMT1</th>\n",
       "      <th>PAY_AMT2</th>\n",
       "      <th>PAY_AMT3</th>\n",
       "      <th>PAY_AMT4</th>\n",
       "      <th>PAY_AMT5</th>\n",
       "      <th>PAY_AMT6</th>\n",
       "      <th>default payment next month</th>\n",
       "    </tr>\n",
       "  </thead>\n",
       "  <tbody>\n",
       "    <tr>\n",
       "      <th>0</th>\n",
       "      <td>1</td>\n",
       "      <td>20000</td>\n",
       "      <td>2</td>\n",
       "      <td>2</td>\n",
       "      <td>1</td>\n",
       "      <td>24</td>\n",
       "      <td>2</td>\n",
       "      <td>2</td>\n",
       "      <td>-1</td>\n",
       "      <td>-1</td>\n",
       "      <td>-2</td>\n",
       "      <td>-2</td>\n",
       "      <td>3913</td>\n",
       "      <td>3102</td>\n",
       "      <td>689</td>\n",
       "      <td>0</td>\n",
       "      <td>0</td>\n",
       "      <td>0</td>\n",
       "      <td>0</td>\n",
       "      <td>689</td>\n",
       "      <td>0</td>\n",
       "      <td>0</td>\n",
       "      <td>0</td>\n",
       "      <td>0</td>\n",
       "      <td>1</td>\n",
       "    </tr>\n",
       "    <tr>\n",
       "      <th>1</th>\n",
       "      <td>2</td>\n",
       "      <td>120000</td>\n",
       "      <td>2</td>\n",
       "      <td>2</td>\n",
       "      <td>2</td>\n",
       "      <td>26</td>\n",
       "      <td>-1</td>\n",
       "      <td>2</td>\n",
       "      <td>0</td>\n",
       "      <td>0</td>\n",
       "      <td>0</td>\n",
       "      <td>2</td>\n",
       "      <td>2682</td>\n",
       "      <td>1725</td>\n",
       "      <td>2682</td>\n",
       "      <td>3272</td>\n",
       "      <td>3455</td>\n",
       "      <td>3261</td>\n",
       "      <td>0</td>\n",
       "      <td>1000</td>\n",
       "      <td>1000</td>\n",
       "      <td>1000</td>\n",
       "      <td>0</td>\n",
       "      <td>2000</td>\n",
       "      <td>1</td>\n",
       "    </tr>\n",
       "    <tr>\n",
       "      <th>2</th>\n",
       "      <td>3</td>\n",
       "      <td>90000</td>\n",
       "      <td>2</td>\n",
       "      <td>2</td>\n",
       "      <td>2</td>\n",
       "      <td>34</td>\n",
       "      <td>0</td>\n",
       "      <td>0</td>\n",
       "      <td>0</td>\n",
       "      <td>0</td>\n",
       "      <td>0</td>\n",
       "      <td>0</td>\n",
       "      <td>29239</td>\n",
       "      <td>14027</td>\n",
       "      <td>13559</td>\n",
       "      <td>14331</td>\n",
       "      <td>14948</td>\n",
       "      <td>15549</td>\n",
       "      <td>1518</td>\n",
       "      <td>1500</td>\n",
       "      <td>1000</td>\n",
       "      <td>1000</td>\n",
       "      <td>1000</td>\n",
       "      <td>5000</td>\n",
       "      <td>0</td>\n",
       "    </tr>\n",
       "    <tr>\n",
       "      <th>3</th>\n",
       "      <td>4</td>\n",
       "      <td>50000</td>\n",
       "      <td>2</td>\n",
       "      <td>2</td>\n",
       "      <td>1</td>\n",
       "      <td>37</td>\n",
       "      <td>0</td>\n",
       "      <td>0</td>\n",
       "      <td>0</td>\n",
       "      <td>0</td>\n",
       "      <td>0</td>\n",
       "      <td>0</td>\n",
       "      <td>46990</td>\n",
       "      <td>48233</td>\n",
       "      <td>49291</td>\n",
       "      <td>28314</td>\n",
       "      <td>28959</td>\n",
       "      <td>29547</td>\n",
       "      <td>2000</td>\n",
       "      <td>2019</td>\n",
       "      <td>1200</td>\n",
       "      <td>1100</td>\n",
       "      <td>1069</td>\n",
       "      <td>1000</td>\n",
       "      <td>0</td>\n",
       "    </tr>\n",
       "    <tr>\n",
       "      <th>4</th>\n",
       "      <td>5</td>\n",
       "      <td>50000</td>\n",
       "      <td>1</td>\n",
       "      <td>2</td>\n",
       "      <td>1</td>\n",
       "      <td>57</td>\n",
       "      <td>-1</td>\n",
       "      <td>0</td>\n",
       "      <td>-1</td>\n",
       "      <td>0</td>\n",
       "      <td>0</td>\n",
       "      <td>0</td>\n",
       "      <td>8617</td>\n",
       "      <td>5670</td>\n",
       "      <td>35835</td>\n",
       "      <td>20940</td>\n",
       "      <td>19146</td>\n",
       "      <td>19131</td>\n",
       "      <td>2000</td>\n",
       "      <td>36681</td>\n",
       "      <td>10000</td>\n",
       "      <td>9000</td>\n",
       "      <td>689</td>\n",
       "      <td>679</td>\n",
       "      <td>0</td>\n",
       "    </tr>\n",
       "  </tbody>\n",
       "</table>\n",
       "</div>"
      ],
      "text/plain": [
       "   ID  LIMIT_BAL  SEX  EDUCATION  MARRIAGE  AGE  PAY_0  PAY_2  PAY_3  PAY_4  \\\n",
       "0   1      20000    2          2         1   24      2      2     -1     -1   \n",
       "1   2     120000    2          2         2   26     -1      2      0      0   \n",
       "2   3      90000    2          2         2   34      0      0      0      0   \n",
       "3   4      50000    2          2         1   37      0      0      0      0   \n",
       "4   5      50000    1          2         1   57     -1      0     -1      0   \n",
       "\n",
       "   PAY_5  PAY_6  BILL_AMT1  BILL_AMT2  BILL_AMT3  BILL_AMT4  BILL_AMT5  \\\n",
       "0     -2     -2       3913       3102        689          0          0   \n",
       "1      0      2       2682       1725       2682       3272       3455   \n",
       "2      0      0      29239      14027      13559      14331      14948   \n",
       "3      0      0      46990      48233      49291      28314      28959   \n",
       "4      0      0       8617       5670      35835      20940      19146   \n",
       "\n",
       "   BILL_AMT6  PAY_AMT1  PAY_AMT2  PAY_AMT3  PAY_AMT4  PAY_AMT5  PAY_AMT6  \\\n",
       "0          0         0       689         0         0         0         0   \n",
       "1       3261         0      1000      1000      1000         0      2000   \n",
       "2      15549      1518      1500      1000      1000      1000      5000   \n",
       "3      29547      2000      2019      1200      1100      1069      1000   \n",
       "4      19131      2000     36681     10000      9000       689       679   \n",
       "\n",
       "   default payment next month  \n",
       "0                           1  \n",
       "1                           1  \n",
       "2                           0  \n",
       "3                           0  \n",
       "4                           0  "
      ]
     },
     "execution_count": 3,
     "metadata": {},
     "output_type": "execute_result"
    }
   ],
   "source": [
    "data = pd.read_excel(\"credit_card_defaults.xls\", header=1)\n",
    "data.head()"
   ]
  },
  {
   "cell_type": "markdown",
   "metadata": {},
   "source": [
    "### 2. Prep data for modelling\n",
    "\n",
    "For simplicity, we will only be working with numerical features as the goal is to demo calibration techniques and not build the most optimal model."
   ]
  },
  {
   "cell_type": "code",
   "execution_count": 4,
   "metadata": {},
   "outputs": [],
   "source": [
    "model_features = list(set(data.columns).difference({\"ID\", \"default payment next month\", \"SEX\", \"EDUCATION\", \"MARRIAGE\"}))\n",
    "target = [\"default payment next month\"]"
   ]
  },
  {
   "cell_type": "markdown",
   "metadata": {},
   "source": [
    "As per good practise, I have split the data into train and test set using scikit-learn's `train_test_split`. However as we will be fitting a calibration model, we require another dataset to be used for this fitting to avoid overfitting. To achieve this, I further split the train dataset into train and validation set as below:"
   ]
  },
  {
   "cell_type": "code",
   "execution_count": 5,
   "metadata": {},
   "outputs": [],
   "source": [
    "X = data[model_features]\n",
    "y = data[target]\n",
    "\n",
    "x_train, x_test, y_train, y_test = train_test_split(X, y, stratify=y, random_state=12)\n",
    "\n",
    "# Create a hold out dataset to train the calibrated model to prevent overfitting\n",
    "x_model_train, x_valid, y_model_train, y_valid = train_test_split(x_train, y_train, stratify=y_train, random_state=12)"
   ]
  },
  {
   "cell_type": "markdown",
   "metadata": {},
   "source": [
    "### 3. Fit random forest model\n",
    "\n",
    "Further work can be done here to identify the optimal parameters for the random forest classifier."
   ]
  },
  {
   "cell_type": "code",
   "execution_count": 6,
   "metadata": {},
   "outputs": [
    {
     "name": "stdout",
     "output_type": "stream",
     "text": [
      "ROC score for random forest model is 0.7730542003230267\n"
     ]
    }
   ],
   "source": [
    "rf_clf = RandomForestClassifier(n_estimators=100, \n",
    "                                max_depth=6, \n",
    "                                min_samples_split=200, \n",
    "                                random_state=12, \n",
    "                                class_weight=\"balanced\")\n",
    "\n",
    "rf_clf.fit(x_model_train, y_model_train)\n",
    "\n",
    "rf_predictions = rf_clf.predict_proba(x_test)\n",
    "rf_roc_score = roc_auc_score(y_test, rf_predictions[:,1])\n",
    "\n",
    "print(f\"ROC score for random forest model is {rf_roc_score}\")"
   ]
  },
  {
   "cell_type": "markdown",
   "metadata": {},
   "source": [
    "### 4. Fit calibration model"
   ]
  },
  {
   "cell_type": "markdown",
   "metadata": {},
   "source": [
    "There are 2 way of using the sklearn `CalibratedClassifierCV` class:\n",
    "\n",
    "- Pass a fitted model and thereby setting cv to `prefit`. It is important to note that the data used in fitting the base estimator and the calibrator is disjoint.\n",
    "\n",
    "- Fit a base estimator using k-fold cross-validation and the probabilities for each of the folds are then averaged for prediction.\n",
    "\n",
    "The `method` parameter is one of the two methods discussed earlier for calibrating probabilities where `sigmoid` is platt scaling and `isotonic` for isotonic regression\n",
    "\n",
    "For this demo, we will be using the first method using the fitted random forest classifier and platt scaling."
   ]
  },
  {
   "cell_type": "code",
   "execution_count": 7,
   "metadata": {},
   "outputs": [
    {
     "name": "stdout",
     "output_type": "stream",
     "text": [
      "ROC score for calibrated model is 0.7729070932246216\n"
     ]
    }
   ],
   "source": [
    "calib_clf = CalibratedClassifierCV(rf_clf, method=\"isotonic\", cv=\"prefit\")\n",
    "\n",
    "calib_clf.fit(x_valid, y_valid)\n",
    "calibrated_predictions = calib_clf.predict_proba(x_test)\n",
    "\n",
    "calib_roc_score = roc_auc_score(y_test, calibrated_predictions[:,1])\n",
    "print(f\"ROC score for calibrated model is {calib_roc_score}\")"
   ]
  },
  {
   "cell_type": "markdown",
   "metadata": {},
   "source": [
    "### 5. Plot reliability curve"
   ]
  },
  {
   "cell_type": "markdown",
   "metadata": {},
   "source": [
    "A popular way of diagnosing how well calibrated probabilities are is by using reliability curve. Fortunately for us, there is an sklearn implementation for this which can be found __[here](https://scikit-learn.org/stable/modules/generated/sklearn.calibration.calibration_curve.html)__\n",
    "\n",
    "A perfectly calibrated classifier has a reliability plot of the form $y = x$.\n"
   ]
  },
  {
   "cell_type": "code",
   "execution_count": 8,
   "metadata": {},
   "outputs": [
    {
     "data": {
      "image/png": "[encoded data removed]",
      "text/plain": [
       "<Figure size 720x504 with 1 Axes>"
      ]
     },
     "metadata": {
      "needs_background": "light"
     },
     "output_type": "display_data"
    }
   ],
   "source": [
    "fig = plt.figure(figsize=(10, 7))\n",
    "\n",
    "for outcomes, models, roc_scores in zip([rf_predictions, calibrated_predictions], \n",
    "                                        [\"Random Forest\", \"Calibrated Model\"],\n",
    "                                       [rf_roc_score, calib_roc_score]):\n",
    "    \n",
    "    fraction_of_positives, mean_predicted_value = calibration_curve(y_test, outcomes[:,1])\n",
    "    plt.plot(mean_predicted_value, fraction_of_positives, label=\"%s with roc - (%1.2f)\" % (models, roc_scores))\n",
    "    plt.legend()\n",
    "    plt.title(\"Reliability curve\")\n",
    "plt.show()"
   ]
  },
  {
   "cell_type": "markdown",
   "metadata": {},
   "source": [
    "Looking at the plot above, it is evident that we get better calibrated probabilities after applying isotonic regression. \n",
    "\n",
    "**Beware:**\n",
    "\n",
    "Because platt scaling is a parametric method if the output model probabilities fail the assumption, it could produce 'calibrated' probabilities worse than the original probabilities from the base estimator"
   ]
  }
 ],
 "metadata": {
  "kernelspec": {
   "display_name": "Python 3",
   "language": "python",
   "name": "python3"
  },
  "language_info": {
   "codemirror_mode": {
    "name": "ipython",
    "version": 3
   },
   "file_extension": ".py",
   "mimetype": "text/x-python",
   "name": "python",
   "nbconvert_exporter": "python",
   "pygments_lexer": "ipython3",
   "version": "3.7.3"
  }
 },
 "nbformat": 4,
 "nbformat_minor": 2
}
